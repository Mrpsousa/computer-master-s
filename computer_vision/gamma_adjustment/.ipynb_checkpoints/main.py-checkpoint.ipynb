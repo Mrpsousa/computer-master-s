{
 "cells": [
  {
   "cell_type": "code",
   "execution_count": 1,
   "metadata": {},
   "outputs": [
    {
     "ename": "TypeError",
     "evalue": "rgb2gray() takes 1 positional argument but 2 were given",
     "output_type": "error",
     "traceback": [
      "\u001b[0;31m---------------------------------------------------------------------------\u001b[0m",
      "\u001b[0;31mTypeError\u001b[0m                                 Traceback (most recent call last)",
      "\u001b[0;32m<ipython-input-1-ff35426f338c>\u001b[0m in \u001b[0;36m<module>\u001b[0;34m\u001b[0m\n\u001b[1;32m     16\u001b[0m \u001b[0mimg_fnames\u001b[0m \u001b[0;34m=\u001b[0m \u001b[0;34m[\u001b[0m \u001b[0mos\u001b[0m\u001b[0;34m.\u001b[0m\u001b[0mpath\u001b[0m\u001b[0;34m.\u001b[0m\u001b[0mjoin\u001b[0m\u001b[0;34m(\u001b[0m\u001b[0mdirpath_test_cats\u001b[0m\u001b[0;34m,\u001b[0m\u001b[0mx\u001b[0m\u001b[0;34m)\u001b[0m \u001b[0;32mfor\u001b[0m \u001b[0mx\u001b[0m \u001b[0;32min\u001b[0m \u001b[0mos\u001b[0m\u001b[0;34m.\u001b[0m\u001b[0mlistdir\u001b[0m\u001b[0;34m(\u001b[0m \u001b[0mdirpath_test_cats\u001b[0m \u001b[0;34m)\u001b[0m \u001b[0;32mif\u001b[0m \u001b[0mx\u001b[0m\u001b[0;34m.\u001b[0m\u001b[0mendswith\u001b[0m\u001b[0;34m(\u001b[0m\u001b[0mimg_ext\u001b[0m\u001b[0;34m)\u001b[0m \u001b[0;34m]\u001b[0m\u001b[0;34m\u001b[0m\u001b[0;34m\u001b[0m\u001b[0m\n\u001b[1;32m     17\u001b[0m \u001b[0;32mfor\u001b[0m \u001b[0mimg\u001b[0m \u001b[0;32min\u001b[0m \u001b[0mimg_fnames\u001b[0m\u001b[0;34m:\u001b[0m\u001b[0;34m\u001b[0m\u001b[0;34m\u001b[0m\u001b[0m\n\u001b[0;32m---> 18\u001b[0;31m     \u001b[0mimg_r\u001b[0m \u001b[0;34m=\u001b[0m \u001b[0mresize\u001b[0m\u001b[0;34m(\u001b[0m\u001b[0mrgb2gray\u001b[0m\u001b[0;34m(\u001b[0m\u001b[0mimread\u001b[0m\u001b[0;34m(\u001b[0m\u001b[0mimg\u001b[0m\u001b[0;34m)\u001b[0m\u001b[0;34m,\u001b[0m\u001b[0;34m(\u001b[0m\u001b[0;36m250\u001b[0m\u001b[0;34m,\u001b[0m \u001b[0;36m250\u001b[0m\u001b[0;34m)\u001b[0m\u001b[0;34m)\u001b[0m\u001b[0;34m)\u001b[0m\u001b[0;34m\u001b[0m\u001b[0;34m\u001b[0m\u001b[0m\n\u001b[0m\u001b[1;32m     19\u001b[0m     \u001b[0meq_img\u001b[0m \u001b[0;34m=\u001b[0m \u001b[0mexposure\u001b[0m\u001b[0;34m.\u001b[0m\u001b[0madjust_gamma\u001b[0m\u001b[0;34m(\u001b[0m\u001b[0mimg_r\u001b[0m\u001b[0;34m,\u001b[0m \u001b[0;36m1\u001b[0m\u001b[0;34m)\u001b[0m\u001b[0;34m\u001b[0m\u001b[0;34m\u001b[0m\u001b[0m\n\u001b[1;32m     20\u001b[0m     \u001b[0mimsave\u001b[0m\u001b[0;34m(\u001b[0m\u001b[0mos\u001b[0m\u001b[0;34m.\u001b[0m\u001b[0mpath\u001b[0m\u001b[0;34m.\u001b[0m\u001b[0mjoin\u001b[0m\u001b[0;34m(\u001b[0m\u001b[0;34m'new_test/cats_1/'\u001b[0m\u001b[0;34m,\u001b[0m \u001b[0;34mf'{(os.path.split(img)[-1])[:-4]}.jpg'\u001b[0m\u001b[0;34m)\u001b[0m\u001b[0;34m,\u001b[0m \u001b[0meq_img\u001b[0m\u001b[0;34m)\u001b[0m\u001b[0;34m\u001b[0m\u001b[0;34m\u001b[0m\u001b[0m\n",
      "\u001b[0;31mTypeError\u001b[0m: rgb2gray() takes 1 positional argument but 2 were given"
     ]
    }
   ],
   "source": [
    "from skimage import exposure\n",
    "import datetime\n",
    "import os\n",
    "from skimage.io import imread, imsave, imshow\n",
    "from skimage.color import rgb2gray\n",
    "from skimage.transform import resize\n",
    "import matplotlib.pyplot as plt\n",
    "\n",
    "\n",
    "dirpath_test_cats = 'test/cats/'\n",
    "dirpath_test_dogs = 'test/dogs/'\n",
    "dirpath_train_cats = 'train/cats/'\n",
    "dirpath_train_dogs = 'train/dogs/'\n",
    "img_ext = '.jpg' \n",
    "\n",
    "img_fnames = [ os.path.join(dirpath_test_cats,x) for x in os.listdir( dirpath_test_cats ) if x.endswith(img_ext) ] \n",
    "for img in img_fnames:\n",
    "    img_r = resize(rgb2gray(imread(img)),(250, 250))\n",
    "    eq_img = exposure.adjust_gamma(img_r, 1)\n",
    "    imsave(os.path.join('new_test/cats_1/', f'{(os.path.split(img)[-1])[:-4]}.jpg'), eq_img)\n",
    "    eq_img = exposure.adjust_gamma(img_r, 2)\n",
    "    imsave(os.path.join('new_test/cats_2/', f'{(os.path.split(img)[-1])[:-4]}.jpg'), eq_img)\n",
    "    eq_img = exposure.adjust_gamma(img_r, 3)\n",
    "    imsave(os.path.join('new_test/cats_3/', f'{(os.path.split(img)[-1])[:-4]}.jpg'), eq_img)\n",
    "\n",
    "img_fnames = [ os.path.join(dirpath_test_dogs,x) for x in os.listdir( dirpath_test_dogs ) if x.endswith(img_ext) ] \n",
    "for img in img_fnames:\n",
    "    img_r = resize(rgb2gray(imread(img)),(250, 250))\n",
    "    eq_img = exposure.adjust_gamma(img_r, 1)\n",
    "    imsave(os.path.join('new_test/dogs_1/', f'{(os.path.split(img)[-1])[:-4]}.jpg'), eq_img)\n",
    "    eq_img = exposure.adjust_gamma(img_r, 2)\n",
    "    imsave(os.path.join('new_test/dogs_2/', f'{(os.path.split(img)[-1])[:-4]}.jpg'), eq_img)\n",
    "    eq_img = exposure.adjust_gamma(img_r, 3)\n",
    "    imsave(os.path.join('new_test/dogs_3/', f'{(os.path.split(img)[-1])[:-4]}.jpg'), eq_img)\n",
    "    \n",
    "img_fnames = [ os.path.join(dirpath_train_cats,x) for x in os.listdir( dirpath_train_cats ) if x.endswith(img_ext) ] \n",
    "for img in img_fnames:\n",
    "    img_r = resize(rgb2gray(imread(img)),(250, 250))\n",
    "    eq_img = exposure.adjust_gamma(img_r, 1)\n",
    "    imsave(os.path.join('new_train/cats_1/', f'{(os.path.split(img)[-1])[:-4]}.jpg'), eq_img)\n",
    "    eq_img = exposure.adjust_gamma(img_r, 2)\n",
    "    imsave(os.path.join('new_train/cats_2/', f'{(os.path.split(img)[-1])[:-4]}.jpg'), eq_img)\n",
    "    eq_img = exposure.adjust_gamma(img_r, 3)\n",
    "    imsave(os.path.join('new_train/cats_3/', f'{(os.path.split(img)[-1])[:-4]}.jpg'), eq_img)\n",
    "\n",
    "img_fnames = [ os.path.join(dirpath_train_dogs,x) for x in os.listdir( dirpath_train_dogs ) if x.endswith(img_ext)             ] \n",
    "for img in img_fnames:\n",
    "    img_r = resize(rgb2gray(imread(img)),(250, 250))\n",
    "    eq_img = exposure.adjust_gamma(img_r, 1)\n",
    "    imsave(os.path.join('new_train/dogs_1/', f'{(os.path.split(img)[-1])[:-4]}.jpg'), eq_img)\n",
    "    eq_img = exposure.adjust_gamma(img_r, 2)\n",
    "    imsave(os.path.join('new_train/dogs_2/', f'{(os.path.split(img)[-1])[:-4]}.jpg'), eq_img)\n",
    "    eq_img = exposure.adjust_gamma(img_r, 3)\n",
    "    imsave(os.path.join('new_train/dogs_3/', f'{(os.path.split(img)[-1])[:-4]}.jpg'), eq_img)\n",
    "\n",
    "    \n",
    "    \n",
    "\n",
    "# # img = imread('test/cats/cat.5000.jpg')\n",
    "# img = rgb2gray(imread('cat.5000.jpg'))\n",
    "# img = resize(img, (500, 500))\n",
    "# eq = exposure.adjust_gamma(img, 2)\n",
    "\n",
    "# plt.subplots(2, 2, figsize=(10,8))\n",
    "# plt.subplot(221); imshow(img); plt.title('IMG Original')\n",
    "# plt.subplot(222); plt.hist(img); plt.title('Histogram of Original')\n",
    "# plt.xlabel('Intensity Value')\n",
    "# plt.subplot(223); imshow(eq);  plt.title('IMG Gamma - 6')\n",
    "# plt.subplot(224); plt.hist(eq); plt.title('Histogram Gamma - 6')\n",
    "# plt.xlabel('Intensity Value')\n",
    "# plt.show()"
   ]
  },
  {
   "cell_type": "code",
   "execution_count": null,
   "metadata": {},
   "outputs": [],
   "source": []
  },
  {
   "cell_type": "code",
   "execution_count": null,
   "metadata": {},
   "outputs": [],
   "source": []
  }
 ],
 "metadata": {
  "kernelspec": {
   "display_name": "Python 3",
   "language": "python",
   "name": "python3"
  },
  "language_info": {
   "codemirror_mode": {
    "name": "ipython",
    "version": 3
   },
   "file_extension": ".py",
   "mimetype": "text/x-python",
   "name": "python",
   "nbconvert_exporter": "python",
   "pygments_lexer": "ipython3",
   "version": "3.8.5"
  }
 },
 "nbformat": 4,
 "nbformat_minor": 4
}
