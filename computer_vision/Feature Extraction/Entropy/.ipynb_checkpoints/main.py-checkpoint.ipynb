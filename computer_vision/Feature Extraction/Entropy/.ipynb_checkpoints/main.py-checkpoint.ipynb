{
 "cells": [
  {
   "cell_type": "code",
   "execution_count": 38,
   "metadata": {},
   "outputs": [
    {
     "name": "stdout",
     "output_type": "stream",
     "text": [
      "M: 5.3909677972882415\n",
      "G:10.778852592873049\n",
      "SC: 15.98353791633073\n"
     ]
    },
    {
     "ename": "IndexError",
     "evalue": "too many indices for array: array is 2-dimensional, but 3 were indexed",
     "output_type": "error",
     "traceback": [
      "\u001b[0;31m---------------------------------------------------------------------------\u001b[0m",
      "\u001b[0;31mIndexError\u001b[0m                                Traceback (most recent call last)",
      "\u001b[0;32m<ipython-input-38-b611fe7d13df>\u001b[0m in \u001b[0;36m<module>\u001b[0;34m\u001b[0m\n\u001b[1;32m     73\u001b[0m \u001b[0;32mfor\u001b[0m \u001b[0mi\u001b[0m\u001b[0;34m,\u001b[0m \u001b[0mimg\u001b[0m \u001b[0;32min\u001b[0m \u001b[0menumerate\u001b[0m\u001b[0;34m(\u001b[0m\u001b[0mimg_fnames\u001b[0m\u001b[0;34m)\u001b[0m\u001b[0;34m:\u001b[0m\u001b[0;34m\u001b[0m\u001b[0;34m\u001b[0m\u001b[0m\n\u001b[1;32m     74\u001b[0m     \u001b[0mi\u001b[0m \u001b[0;34m+=\u001b[0m \u001b[0;36m1\u001b[0m\u001b[0;34m\u001b[0m\u001b[0;34m\u001b[0m\u001b[0m\n\u001b[0;32m---> 75\u001b[0;31m     \u001b[0mimg_r\u001b[0m \u001b[0;34m=\u001b[0m \u001b[0;34m(\u001b[0m\u001b[0mimread\u001b[0m\u001b[0;34m(\u001b[0m\u001b[0mimg\u001b[0m\u001b[0;34m)\u001b[0m\u001b[0;34m[\u001b[0m\u001b[0;34m:\u001b[0m\u001b[0;34m,\u001b[0m\u001b[0;34m:\u001b[0m\u001b[0;34m,\u001b[0m\u001b[0;36m2\u001b[0m\u001b[0;34m]\u001b[0m\u001b[0;34m)\u001b[0m\u001b[0;34m.\u001b[0m\u001b[0msum\u001b[0m\u001b[0;34m(\u001b[0m\u001b[0maxis\u001b[0m\u001b[0;34m=\u001b[0m\u001b[0;36m1\u001b[0m\u001b[0;34m)\u001b[0m\u001b[0;34m\u001b[0m\u001b[0;34m\u001b[0m\u001b[0m\n\u001b[0m\u001b[1;32m     76\u001b[0m     \u001b[0mimg_r\u001b[0m \u001b[0;34m=\u001b[0m \u001b[0mpd\u001b[0m\u001b[0;34m.\u001b[0m\u001b[0mIndex\u001b[0m\u001b[0;34m(\u001b[0m\u001b[0mimg_r\u001b[0m\u001b[0;34m)\u001b[0m\u001b[0;34m\u001b[0m\u001b[0;34m\u001b[0m\u001b[0m\n\u001b[1;32m     77\u001b[0m     \u001b[0maux\u001b[0m \u001b[0;34m+=\u001b[0m \u001b[0mentropy\u001b[0m\u001b[0;34m(\u001b[0m\u001b[0mimg_r\u001b[0m\u001b[0;34m)\u001b[0m\u001b[0;34m\u001b[0m\u001b[0;34m\u001b[0m\u001b[0m\n",
      "\u001b[0;31mIndexError\u001b[0m: too many indices for array: array is 2-dimensional, but 3 were indexed"
     ]
    }
   ],
   "source": [
    "import numpy as np\n",
    "from skimage.io import imread, imsave, imshow\n",
    "from skimage.transform import resize\n",
    "# from skimage import  color, img_as_ubyte\n",
    "# from skimage.feature import greycomatrix, greycoprops\n",
    "import os\n",
    "import matplotlib.pyplot as plt\n",
    "import pandas as pd\n",
    "import scipy.stats\n",
    "\n",
    "\n",
    "def entropy(data):\n",
    "    \"\"\"Calculates entropy of the passed `pd.Series`\n",
    "    \"\"\"\n",
    "    p_data = data.value_counts()           # counts occurrence of each value\n",
    "    entropy = scipy.stats.entropy(p_data)  # get entropy from counts\n",
    "    return entropy\n",
    "# from skimage import img_as_ubyte\n",
    "# from skimage.color import rgb2gray\n",
    "# from skimage.exposure import equalize_hist\n",
    "\n",
    "\n",
    "# img = img_as_ubyte(equalize_hist(resize(rgb2gray(imread('cat.5684.jpg')), (250, 250))))\n",
    "\n",
    "\n",
    "dirpath_moedas = 'Moedas'\n",
    "dirpath_moedasG = 'MoedasG'\n",
    "dirpath_moedasScolor = 'MoedasScolor'\n",
    "dirpath_moedasSgray = 'MoedasSgray'\n",
    "\n",
    "\n",
    "\n",
    "img_ext = '.jpg'\n",
    "aux = 0\n",
    "moedas = 0\n",
    "moedasG = 0\n",
    "moedasScolor = 0\n",
    "moedasSgray = 0\n",
    "\n",
    "\n",
    "img_fnames = [ os.path.join(dirpath_moedas,x) for x in os.listdir( dirpath_moedas ) if x.endswith(img_ext) ] \n",
    "i = 0\n",
    "for i, img in enumerate(img_fnames):\n",
    "    i += 1\n",
    "    img_r = (imread(img)[:,:,2]).sum(axis=1)\n",
    "    img_r = pd.Index(img_r)\n",
    "    aux += entropy(img_r)\n",
    "    moedas = aux / i\n",
    "print(f'M: {moedas}')\n",
    "\n",
    "img_fnames = [ os.path.join(dirpath_moedasG,x) for x in os.listdir( dirpath_moedasG ) if x.endswith(img_ext) ] \n",
    "i = 0\n",
    "for i, img in enumerate(img_fnames):\n",
    "    i += 1\n",
    "    img_r = (imread(img)).sum(axis=1)\n",
    "    img_r = pd.Index(img_r)\n",
    "    aux += entropy(img_r)\n",
    "    moedasG = aux / i\n",
    "print(f'G:{moedasG}')\n",
    "\n",
    "img_fnames = [ os.path.join(dirpath_moedasScolor,x) for x in os.listdir( dirpath_moedasScolor ) if x.endswith(img_ext) ] \n",
    "i = 0\n",
    "for i, img in enumerate(img_fnames):\n",
    "    i += 1\n",
    "    img_r = (imread(img)[:,:,2]).sum(axis=1)\n",
    "    img_r = pd.Index(img_r)\n",
    "    aux += entropy(img_r)\n",
    "    moedasScolor = aux / i\n",
    "print(f'SC: {moedasScolor}')\n",
    "\n",
    "img_fnames = [ os.path.join(dirpath_moedasSgray,x) for x in os.listdir( dirpath_moedasSgray ) if x.endswith(img_ext) ] \n",
    "i = 0\n",
    "for i, img in enumerate(img_fnames):\n",
    "    i += 1\n",
    "    img_r = (imread(img)).sum(axis=1)\n",
    "    img_r = pd.Index(img_r)\n",
    "    aux += entropy(img_r)\n",
    "    moedasSgray = aux / i\n",
    "print(f'SG: {moedasSgray}')\n",
    "\n",
    "\n",
    "\n"
   ]
  },
  {
   "cell_type": "code",
   "execution_count": null,
   "metadata": {},
   "outputs": [],
   "source": []
  },
  {
   "cell_type": "code",
   "execution_count": null,
   "metadata": {},
   "outputs": [],
   "source": []
  }
 ],
 "metadata": {
  "kernelspec": {
   "display_name": "Python 3",
   "language": "python",
   "name": "python3"
  },
  "language_info": {
   "codemirror_mode": {
    "name": "ipython",
    "version": 3
   },
   "file_extension": ".py",
   "mimetype": "text/x-python",
   "name": "python",
   "nbconvert_exporter": "python",
   "pygments_lexer": "ipython3",
   "version": "3.8.5"
  }
 },
 "nbformat": 4,
 "nbformat_minor": 4
}
